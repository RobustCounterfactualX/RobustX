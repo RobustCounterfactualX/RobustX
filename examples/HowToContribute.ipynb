{
 "cells": [
  {
   "cell_type": "markdown",
   "metadata": {
    "collapsed": false
   },
   "source": [
    "# How to contribute?\n",
    "\n",
    "Here we report a simple guide with the key features of RobustX in order to implement your own (robust) counterfactual explanation method."
   ]
  },
  {
   "cell_type": "markdown",
   "metadata": {},
   "source": [
    "# Setup preparation"
   ]
  },
  {
   "cell_type": "code",
   "execution_count": 2,
   "metadata": {
    "ExecuteTime": {
     "end_time": "2025-02-07T11:40:57.435679Z",
     "start_time": "2025-02-07T11:40:56.501837Z"
    },
    "collapsed": false
   },
   "outputs": [
    {
     "name": "stdout",
     "output_type": "stream",
     "text": [
      "model accuracy:  0.5142857432365417\n"
     ]
    }
   ],
   "source": [
    "# Import necessary components\n",
    "from sklearn.model_selection import train_test_split\n",
    "from robustx.lib.models.pytorch_models.SimpleNNModel import SimpleNNModel\n",
    "from robustx.datasets.ExampleDatasets import get_example_dataset\n",
    "from robustx.lib.tasks.ClassificationTask import ClassificationTask\n",
    "from robustx.generators.robust_CE_methods.MCER import MCER\n",
    "import numpy as np\n",
    "\n",
    "# Load and preprocess dataset\n",
    "dl = get_example_dataset(\"iris\")\n",
    "dl.preprocess(\n",
    "    impute_strategy_numeric='mean',  # Impute missing numeric values with mean\n",
    "    scale_method='minmax',           # Apply min-max scaling\n",
    "    encode_categorical=False         # No categorical encoding needed (since no categorical features)\n",
    ")\n",
    "\n",
    "# remove the target column from the dataset that has labels 2\n",
    "dl.data = dl.data[dl.data['target'] != 2]\n",
    "\n",
    "# Load model, note some RecourseGenerators may only work with a certain type of model,\n",
    "# e.g., MCE only works with a SimpleNNModel\n",
    "model = SimpleNNModel(4, [10], 1, seed=0)\n",
    "\n",
    "target_column = \"target\"\n",
    "X_train, X_test, y_train, y_test = train_test_split(dl.data.drop(columns=[target_column]), dl.data[target_column], test_size=0.35, random_state=0)\n",
    "model.train(X_train, y_train)\n",
    "\n",
    "print(\"model accuracy: \", model.compute_accuracy(X_test.values, y_test.values))\n",
    "\n",
    "# Create task\n",
    "task = ClassificationTask(model, dl)"
   ]
  },
  {
   "cell_type": "markdown",
   "metadata": {},
   "source": [
    "# Example of an already implemented CE generation method in RobustX"
   ]
  },
  {
   "cell_type": "code",
   "execution_count": 3,
   "metadata": {
    "ExecuteTime": {
     "end_time": "2025-02-07T11:41:02.196196Z",
     "start_time": "2025-02-07T11:40:57.436946Z"
    },
    "collapsed": false
   },
   "outputs": [
    {
     "name": "stdout",
     "output_type": "stream",
     "text": [
      "Restricted license - for non-production use only - expires 2025-11-24\n",
      "Negative instances shape:  (50, 4)\n",
      "Example of a prediction for a negative instance:\n",
      "\n",
      "   sepal length (cm)  sepal width (cm)  petal length (cm)  petal width (cm)\n",
      "0           0.222222             0.625           0.067797          0.041667\n",
      "Output:  0.46254587173461914\n",
      "Class:  0\n",
      "\n",
      "Generating counterfactual explanations using STCE for the first 5 negative instances:\n",
      "   sepal length (cm)  sepal width (cm)  petal length (cm)  petal width (cm)\n",
      "0            0.40527          0.227558           0.067797          0.041667\n",
      "Output:  0.5000250339508057\n",
      "Class:  1\n"
     ]
    }
   ],
   "source": [
    "# Each counterfactual explanation generator takes the task on creation, it can also take a custom distance function, but for now we will use the default one.\n",
    "ce_gen = MCER(task)\n",
    "\n",
    "# Get negative instances, the default column_name is always \"target\" but you can set it to the name of your dataset's target variable\n",
    "negs = dl.get_negative_instances(neg_value=0, column_name=\"target\")\n",
    "print(\"Negative instances shape: \", negs.shape)\n",
    "print(f\"Example of a prediction for a negative instance:\\n\")\n",
    "print(negs.head(1))\n",
    "print(\"Output: \", model.predict(negs.head(1)).values.item())\n",
    "print(\"Class: \", int(model.predict(negs.head(1)).values.item() > 0.5))  # Assuming binary classification with threshold 0.5\n",
    "\n",
    "# You can generate for a set of instances stored in a DataFrame\n",
    "print(\"\\nGenerating counterfactual explanations using STCE for the first 5 negative instances:\")\n",
    "ce = ce_gen.generate_for_instance(negs.iloc[0], delta=0.0, bias_delta=0.0)\n",
    "print(ce)\n",
    "print(\"Output: \", model.predict(ce).values.item())\n",
    "print(\"Class: \", int(model.predict(ce).values.item() > 0.5))  # Assuming binary classification with threshold 0.5"
   ]
  },
  {
   "cell_type": "code",
   "execution_count": 4,
   "metadata": {
    "ExecuteTime": {
     "end_time": "2025-02-07T11:41:03.173345Z",
     "start_time": "2025-02-07T11:41:02.196825Z"
    },
    "collapsed": false
   },
   "outputs": [
    {
     "name": "stdout",
     "output_type": "stream",
     "text": [
      "All outputs are positive?  True\n"
     ]
    }
   ],
   "source": [
    "# You can also implement a method to generate CEs for all the negative instance in one shot\n",
    "ces = ce_gen.generate_for_all(neg_value=0, column_name=\"target\")\n",
    "print(\"All outputs are positive? \", np.all(model.predict(ces)>0.5))"
   ]
  },
  {
   "cell_type": "markdown",
   "metadata": {
    "collapsed": false
   },
   "source": [
    "# Implementing your own CE Generator\n",
    "\n",
    "Here is an example of creating your own RecourseGenerator. Let's make a simple one which gets\n",
    "n different positive instances and chooses a random one. Let's say it also allows a random seed value."
   ]
  },
  {
   "cell_type": "code",
   "execution_count": 5,
   "metadata": {
    "ExecuteTime": {
     "end_time": "2025-02-07T11:43:00.582480Z",
     "start_time": "2025-02-07T11:43:00.577104Z"
    },
    "collapsed": false
   },
   "outputs": [],
   "source": [
    "from robustx.generators.CEGenerator import CEGenerator\n",
    "import pandas as pd\n",
    "\n",
    "# Implement the RecourseGenerator class\n",
    "class RandomCE(CEGenerator):\n",
    "\n",
    "    # You must implement the _generation_method function, this returns the CE for a given\n",
    "    # instance, if you take any extra arguments make sure to specify them before **kwargs,\n",
    "    # like we have done for n and seed (they must have some default value)\n",
    "    def _generation_method(self, instance, column_name=\"target\", neg_value=0, n=50, seed=None, **kwargs):\n",
    "        # Remember, the RecourseGenerator has access to its Task! Use this to get access to your dataset or model,\n",
    "        # or to use any of their methods, here we use the ClassificationTask's get_random_positive_instance() method\n",
    "        pos = pd.concat([self.task.get_random_positive_instance(neg_value=neg_value, column_name=column_name) for _ in range(n)])\n",
    "\n",
    "        # Depending on whether a seed is provided, we return a random positive - the result must be a DataFrame\n",
    "        if seed is None:\n",
    "            return pos.sample(n=1)\n",
    "\n",
    "        return pos.sample(n=1, random_state=seed)"
   ]
  },
  {
   "cell_type": "markdown",
   "metadata": {
    "collapsed": false
   },
   "source": [
    "Within the CEGenerator you can access:\n",
    "\n",
    "- The Task - self.Task\n",
    "- The DatasetLoader - self.task.training_data\n",
    "- The BaseModel - self.task.model\n",
    "\n",
    "and their respective methods. If your method needs additional arguments, you can put them in the function signature\n",
    "but do NOT remove any other arguments (including **kwargs). Remember to return a DataFrame!\n",
    "\n",
    "Here is our new CE in use below:"
   ]
  },
  {
   "cell_type": "code",
   "execution_count": 6,
   "metadata": {
    "ExecuteTime": {
     "end_time": "2025-02-07T11:43:02.681345Z",
     "start_time": "2025-02-07T11:43:00.583425Z"
    },
    "collapsed": false
   },
   "outputs": [
    {
     "name": "stdout",
     "output_type": "stream",
     "text": [
      "    sepal length (cm)  sepal width (cm)  petal length (cm)  petal width (cm)\n",
      "0            0.694444          0.333333           0.644068          0.541667\n",
      "1            0.472222          0.083333           0.508475          0.375000\n",
      "2            0.694444          0.333333           0.644068          0.541667\n",
      "3            0.472222          0.083333           0.508475          0.375000\n",
      "4            0.527778          0.083333           0.593220          0.583333\n",
      "..                ...               ...                ...               ...\n",
      "91           0.694444          0.333333           0.644068          0.541667\n",
      "92           0.555556          0.125000           0.576271          0.500000\n",
      "93           0.694444          0.333333           0.644068          0.541667\n",
      "94           0.472222          0.083333           0.508475          0.375000\n",
      "95           0.555556          0.125000           0.576271          0.500000\n",
      "\n",
      "[96 rows x 4 columns]\n"
     ]
    }
   ],
   "source": [
    "# Create RecourseGenerator\n",
    "random_ce = RandomCE(task)\n",
    "\n",
    "# Test it\n",
    "ces = random_ce.generate_for_all()\n",
    "print(ces)"
   ]
  },
  {
   "cell_type": "markdown",
   "metadata": {
    "collapsed": false
   },
   "source": [
    "We can verify it by seeing all the predictions for the CEs are positive."
   ]
  },
  {
   "cell_type": "code",
   "execution_count": 7,
   "metadata": {
    "ExecuteTime": {
     "end_time": "2025-02-07T11:43:02.684474Z",
     "start_time": "2025-02-07T11:43:02.682067Z"
    },
    "collapsed": false
   },
   "outputs": [
    {
     "name": "stdout",
     "output_type": "stream",
     "text": [
      "           0\n",
      "0   0.501608\n",
      "1   0.505629\n",
      "2   0.501608\n",
      "3   0.505629\n",
      "4   0.502795\n",
      "..       ...\n",
      "91  0.501608\n",
      "92  0.505989\n",
      "93  0.501608\n",
      "94  0.505629\n",
      "95  0.505989\n",
      "\n",
      "[96 rows x 1 columns]\n"
     ]
    }
   ],
   "source": [
    "print(model.predict(ces))"
   ]
  },
  {
   "cell_type": "markdown",
   "metadata": {},
   "source": [
    "# Benchmarking your method"
   ]
  },
  {
   "cell_type": "markdown",
   "metadata": {},
   "source": [
    "After you have finished implementing your method, you can include it into DefaultBenchmark.py file and test it against other methods supported in the library using this lines of code:"
   ]
  },
  {
   "cell_type": "code",
   "execution_count": null,
   "metadata": {},
   "outputs": [
    {
     "name": "stdout",
     "output_type": "stream",
     "text": [
      "+------------+----------------------+------------+------------+\n",
      "| Method     |   Execution Time (s) |   Validity |   Distance |\n",
      "+============+======================+============+============+\n",
      "| KDTreeNNCE |            0.0493832 |          1 |   0.533264 |\n",
      "+------------+----------------------+------------+------------+\n",
      "| MCER       |            0.938715  |          1 |   0.407967 |\n",
      "+------------+----------------------+------------+------------+\n"
     ]
    }
   ],
   "source": [
    "from robustx.lib.DefaultBenchmark import default_benchmark\n",
    "methods = [\"KDTreeNNCE\", \"MCER\"]\n",
    "evaluations = [\"Validity\", \"Distance\"]\n",
    "default_benchmark(task, methods, evaluations, neg_value=0, column_name=\"target\", delta=0.005)"
   ]
  },
  {
   "cell_type": "markdown",
   "metadata": {},
   "source": []
  }
 ],
 "metadata": {
  "kernelspec": {
   "display_name": "robustx",
   "language": "python",
   "name": "python3"
  },
  "language_info": {
   "codemirror_mode": {
    "name": "ipython",
    "version": 3
   },
   "file_extension": ".py",
   "mimetype": "text/x-python",
   "name": "python",
   "nbconvert_exporter": "python",
   "pygments_lexer": "ipython3",
   "version": "3.9.21"
  }
 },
 "nbformat": 4,
 "nbformat_minor": 0
}
